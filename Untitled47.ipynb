{
  "nbformat": 4,
  "nbformat_minor": 0,
  "metadata": {
    "colab": {
      "name": "Untitled47.ipynb",
      "provenance": [],
      "mount_file_id": "1ttw9MHtCIh6reDN_dOpgyFGGNWGZQHs8",
      "authorship_tag": "ABX9TyNv+DLneWvcRirSU61xZdmH",
      "include_colab_link": true
    },
    "kernelspec": {
      "name": "python3",
      "display_name": "Python 3"
    },
    "language_info": {
      "name": "python"
    }
  },
  "cells": [
    {
      "cell_type": "markdown",
      "metadata": {
        "id": "view-in-github",
        "colab_type": "text"
      },
      "source": [
        "<a href=\"https://colab.research.google.com/github/Vineet2107/Convolutional-neural-network-in-tensorflow/blob/main/Untitled47.ipynb\" target=\"_parent\"><img src=\"https://colab.research.google.com/assets/colab-badge.svg\" alt=\"Open In Colab\"/></a>"
      ]
    },
    {
      "cell_type": "code",
      "execution_count": null,
      "metadata": {
        "id": "TbeXuCoU8U1g"
      },
      "outputs": [],
      "source": [
        "!pip install nltk\n",
        "!pip install spacy==2.3.5\n",
        "!pip install https://github.com/explosion/spacy-models/releases/download/en_core_web_sm-2.3.1/en_core_web_sm-2.3.1.tar.gz\n",
        "!pip install pyresparser"
      ]
    },
    {
      "cell_type": "code",
      "source": [
        "!pip install docx\n",
        "!pip install python-docx"
      ],
      "metadata": {
        "colab": {
          "base_uri": "https://localhost:8080/"
        },
        "id": "hVZEfPPg9L54",
        "outputId": "debfc208-81d0-4429-8e8c-764b91af9024"
      },
      "execution_count": 6,
      "outputs": [
        {
          "output_type": "stream",
          "name": "stdout",
          "text": [
            "Looking in indexes: https://pypi.org/simple, https://us-python.pkg.dev/colab-wheels/public/simple/\n",
            "Requirement already satisfied: docx in /usr/local/lib/python3.7/dist-packages (0.2.4)\n",
            "Requirement already satisfied: Pillow>=2.0 in /usr/local/lib/python3.7/dist-packages (from docx) (7.1.2)\n",
            "Requirement already satisfied: lxml in /usr/local/lib/python3.7/dist-packages (from docx) (4.2.6)\n",
            "Looking in indexes: https://pypi.org/simple, https://us-python.pkg.dev/colab-wheels/public/simple/\n",
            "Collecting python-docx\n",
            "  Downloading python-docx-0.8.11.tar.gz (5.6 MB)\n",
            "\u001b[K     |████████████████████████████████| 5.6 MB 15.5 MB/s \n",
            "\u001b[?25hRequirement already satisfied: lxml>=2.3.2 in /usr/local/lib/python3.7/dist-packages (from python-docx) (4.2.6)\n",
            "Building wheels for collected packages: python-docx\n",
            "  Building wheel for python-docx (setup.py) ... \u001b[?25l\u001b[?25hdone\n",
            "  Created wheel for python-docx: filename=python_docx-0.8.11-py3-none-any.whl size=184507 sha256=7ce99d0d4c1d7bc4e7957d62455345de1dc81e35a8eb4093b39b482125a678cf\n",
            "  Stored in directory: /root/.cache/pip/wheels/f6/6f/b9/d798122a8b55b74ad30b5f52b01482169b445fbb84a11797a6\n",
            "Successfully built python-docx\n",
            "Installing collected packages: python-docx\n",
            "Successfully installed python-docx-0.8.11\n"
          ]
        }
      ]
    },
    {
      "cell_type": "code",
      "source": [
        "import nltk\n",
        "nltk.download('stopwords')\n",
        "from pyresparser import ResumeParser\n",
        "\n",
        "import os\n",
        "\n",
        "from docx import Document"
      ],
      "metadata": {
        "colab": {
          "base_uri": "https://localhost:8080/"
        },
        "id": "-bS7kql79JfD",
        "outputId": "ff97d46f-d78f-41bd-c591-df0eb69698f2"
      },
      "execution_count": 7,
      "outputs": [
        {
          "output_type": "stream",
          "name": "stderr",
          "text": [
            "[nltk_data] Downloading package stopwords to /root/nltk_data...\n",
            "[nltk_data]   Package stopwords is already up-to-date!\n"
          ]
        }
      ]
    },
    {
      "cell_type": "code",
      "source": [
        "from pyresparser import ResumeParser"
      ],
      "metadata": {
        "id": "pZR90mI58dZr"
      },
      "execution_count": 8,
      "outputs": []
    },
    {
      "cell_type": "code",
      "source": [
        "# file format should be in .txt, .pdf, .docx\n",
        "filed= '/content/drive/MyDrive/Vineet_Resume/Vineet_Resume.pdf'\n",
        "\n",
        "# below line is used to read the file from this path **D:/CV/Updated_CV.docx**\n",
        "\n",
        "try:\n",
        "    doc = Document()\n",
        "    with open(filed,'r') as file:\n",
        "        doc.add_paragraph(file.read())\n",
        "        doc.save(\"text.docx\")\n",
        "        data= ResumeParser('text.docx').get_extracted_data()\n",
        "        print(data.keys())\n",
        "        #print(data)\n",
        "        print(data['skills'])\n",
        "        resume_skills=data['skills']\n",
        "except:\n",
        "        data = ResumeParser(filed).get_extracted_data() \n",
        "        print(data.keys())\n",
        "        #print(data)\n",
        "        print(data['total_experience'])\n",
        "        resume_skills=data['skills']"
      ],
      "metadata": {
        "colab": {
          "base_uri": "https://localhost:8080/"
        },
        "id": "mIxHXh938_Ik",
        "outputId": "ff03fd09-927e-45b1-e81b-2a57415a92ac"
      },
      "execution_count": 13,
      "outputs": [
        {
          "output_type": "stream",
          "name": "stderr",
          "text": [
            "/usr/local/lib/python3.7/dist-packages/spacy/util.py:275: UserWarning: [W031] Model 'en_training' (0.0.0) requires spaCy v2.1 and is incompatible with the current spaCy version (2.3.5). This may lead to unexpected results or runtime errors. To resolve this, download a newer compatible model or retrain your custom model with the current spaCy version. For more details and available updates, run: python -m spacy validate\n",
            "  warnings.warn(warn_msg)\n"
          ]
        },
        {
          "output_type": "stream",
          "name": "stdout",
          "text": [
            "dict_keys(['name', 'email', 'mobile_number', 'skills', 'college_name', 'degree', 'designation', 'experience', 'company_names', 'no_of_pages', 'total_experience'])\n",
            "0.0\n"
          ]
        }
      ]
    },
    {
      "cell_type": "code",
      "source": [
        "JD_path = '/content/drive/MyDrive/Pragmatic_Leaders/Resume Documents-20220316-112747496/Resume Documents/ADIT+GOSWAMI+RESUME.pdf'\n",
        "JD_data= ResumeParser(JD_path).get_extracted_data()"
      ],
      "metadata": {
        "colab": {
          "base_uri": "https://localhost:8080/"
        },
        "id": "zSbMgjGo9nhw",
        "outputId": "b33e9cf4-184f-4405-948a-4be7ed8da5fc"
      },
      "execution_count": 16,
      "outputs": [
        {
          "output_type": "stream",
          "name": "stderr",
          "text": [
            "/usr/local/lib/python3.7/dist-packages/spacy/util.py:275: UserWarning: [W031] Model 'en_training' (0.0.0) requires spaCy v2.1 and is incompatible with the current spaCy version (2.3.5). This may lead to unexpected results or runtime errors. To resolve this, download a newer compatible model or retrain your custom model with the current spaCy version. For more details and available updates, run: python -m spacy validate\n",
            "  warnings.warn(warn_msg)\n"
          ]
        }
      ]
    },
    {
      "cell_type": "code",
      "source": [
        "JD_data"
      ],
      "metadata": {
        "colab": {
          "base_uri": "https://localhost:8080/"
        },
        "id": "AF4Wthkp-LWR",
        "outputId": "02fe7fe4-aad3-4ae4-8115-0724f545ef43"
      },
      "execution_count": 17,
      "outputs": [
        {
          "output_type": "execute_result",
          "data": {
            "text/plain": [
              "{'college_name': None,\n",
              " 'company_names': None,\n",
              " 'degree': ['PGDM - FINANCE & MARKETING'],\n",
              " 'designation': None,\n",
              " 'email': 'sarrygoswami@gmail.com',\n",
              " 'experience': ['HEAD - BUSINESS & OPERATIONS INDIA',\n",
              "  'PRINCETON HIVE USA - RKLICK SOLUTIONS PVTLTD',\n",
              "  \"Oct '20 - Present\",\n",
              "  'NOIDA/CHANDIGARH',\n",
              "  \"World's First Ai-Based 21st Century Courses, Skilled Based Courses, Create live classes, Learn live, eBooks, Industry's rockstars.\",\n",
              "  'Compiled and analyzed data to determine the effectiveness of products and campaigns. Oversaw the use of applications',\n",
              "  'and platforms.',\n",
              "  'Built sales & marketing, functional, and operational teams successfully, trained 16 employees to increase the performance',\n",
              "  'abilities of new and existing staff.',\n",
              "  'Developed the business opportunities by onboarding 7 key B2B accounts. Created a sales pipeline of 23 prospects such as',\n",
              "  'Bank of America, Honeywell, Jamboree etc.',\n",
              "  'Worked closely with our US and European counterparts on project deliveries and assistance.',\n",
              "  'Created and handled a team of 11, facilitated strategic alliances, liaisons, and partnerships with corporates and',\n",
              "  'influencers.',\n",
              "  'FOUNDER',\n",
              "  'PINCHIT.BIZ',\n",
              "  \"Jul '19 - Aug '19\",\n",
              "  'CHANDIGARH',\n",
              "  'We worked on to build the platform that allows skilled house help services to connect with the potential households.',\n",
              "  'We managed to build a team of 14 rockers as house help, Housemaids, Domestic help, Servants, Dishes & Cleaning-',\n",
              "  'Mopping etc. Successfully placed all 14 rockers in first month of the business itself and was in positive cash inflow.',\n",
              "  'NORTH HEAD',\n",
              "  'PROWISDOM GROWTH PVT LTD',\n",
              "  \"Feb '18 - Sep '20\",\n",
              "  'DELHI NCR/CHANDIGARH'],\n",
              " 'mobile_number': '7217600540',\n",
              " 'name': '\\uf041 Gurugram',\n",
              " 'no_of_pages': 2,\n",
              " 'skills': ['Networking',\n",
              "  'Presentation',\n",
              "  'Negotiation',\n",
              "  'Training',\n",
              "  'Hive',\n",
              "  'Finance',\n",
              "  'Analyze',\n",
              "  'Business development',\n",
              "  'Analysis',\n",
              "  'Electronics',\n",
              "  'Research',\n",
              "  'Brand',\n",
              "  'Partnerships',\n",
              "  'Crm',\n",
              "  'Sap',\n",
              "  'Engagement',\n",
              "  'Market research',\n",
              "  'Marketing',\n",
              "  'Sales',\n",
              "  'C',\n",
              "  'Ai',\n",
              "  'Operations',\n",
              "  'Alliances'],\n",
              " 'total_experience': 0.0}"
            ]
          },
          "metadata": {},
          "execution_count": 17
        }
      ]
    },
    {
      "cell_type": "code",
      "source": [
        "from pyresparser import ResumeParser\n",
        "data = ResumeParser('/path/to/resume/file', skills_file='/path/to/skills.csv').get_extracted_data()"
      ],
      "metadata": {
        "id": "jKRyhW03-M0Z"
      },
      "execution_count": null,
      "outputs": []
    },
    {
      "cell_type": "code",
      "source": [
        "from pyresparser import ResumeParser\n",
        "data = ResumeParser('/path/to/resume/file', custom_regex='pattern').get_extracted_data()"
      ],
      "metadata": {
        "id": "-ArsDcx-C7W_"
      },
      "execution_count": null,
      "outputs": []
    }
  ]
}