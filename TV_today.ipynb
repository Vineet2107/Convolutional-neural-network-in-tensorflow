{
  "nbformat": 4,
  "nbformat_minor": 0,
  "metadata": {
    "colab": {
      "name": "TV_today.ipynb",
      "provenance": [],
      "mount_file_id": "1FLQah9VeQKMLo_4AcOqrBpovOMwFga2G",
      "authorship_tag": "ABX9TyPYHEo9K8AwuGnNwwh4m7RL",
      "include_colab_link": true
    },
    "kernelspec": {
      "name": "python3",
      "display_name": "Python 3"
    },
    "language_info": {
      "name": "python"
    }
  },
  "cells": [
    {
      "cell_type": "markdown",
      "metadata": {
        "id": "view-in-github",
        "colab_type": "text"
      },
      "source": [
        "<a href=\"https://colab.research.google.com/github/Vineet2107/Convolutional-neural-network-in-tensorflow/blob/main/TV_today.ipynb\" target=\"_parent\"><img src=\"https://colab.research.google.com/assets/colab-badge.svg\" alt=\"Open In Colab\"/></a>"
      ]
    },
    {
      "cell_type": "code",
      "metadata": {
        "id": "ciyqnyWcoR1h"
      },
      "source": [
        "import numpy as np\n",
        "import pandas as pd"
      ],
      "execution_count": 1,
      "outputs": []
    },
    {
      "cell_type": "code",
      "metadata": {
        "id": "d8iFVe0moYte"
      },
      "source": [
        "df = pd.read_csv('/content/drive/MyDrive/eyewear_ml_challenge.csv')"
      ],
      "execution_count": 2,
      "outputs": []
    },
    {
      "cell_type": "code",
      "metadata": {
        "colab": {
          "base_uri": "https://localhost:8080/",
          "height": 206
        },
        "id": "V0BkyMNgouU8",
        "outputId": "f524c95e-8ead-48ee-c616-7dae1ad39f69"
      },
      "source": [
        "df.head()"
      ],
      "execution_count": 3,
      "outputs": [
        {
          "output_type": "execute_result",
          "data": {
            "text/html": [
              "<div>\n",
              "<style scoped>\n",
              "    .dataframe tbody tr th:only-of-type {\n",
              "        vertical-align: middle;\n",
              "    }\n",
              "\n",
              "    .dataframe tbody tr th {\n",
              "        vertical-align: top;\n",
              "    }\n",
              "\n",
              "    .dataframe thead th {\n",
              "        text-align: right;\n",
              "    }\n",
              "</style>\n",
              "<table border=\"1\" class=\"dataframe\">\n",
              "  <thead>\n",
              "    <tr style=\"text-align: right;\">\n",
              "      <th></th>\n",
              "      <th>Unnamed: 0</th>\n",
              "      <th>product_name</th>\n",
              "      <th>product_id</th>\n",
              "      <th>parent_category</th>\n",
              "      <th>Image_Front</th>\n",
              "      <th>frame_shape</th>\n",
              "    </tr>\n",
              "  </thead>\n",
              "  <tbody>\n",
              "    <tr>\n",
              "      <th>0</th>\n",
              "      <td>0</td>\n",
              "      <td>Vintage Persona C4</td>\n",
              "      <td>7641</td>\n",
              "      <td>eyeframe</td>\n",
              "      <td>http://tak-apps-dev.s3.amazonaws.com/recruitme...</td>\n",
              "      <td>Rectangle</td>\n",
              "    </tr>\n",
              "    <tr>\n",
              "      <th>1</th>\n",
              "      <td>1</td>\n",
              "      <td>Vintage Crazy-X C2 Red</td>\n",
              "      <td>7643</td>\n",
              "      <td>eyeframe</td>\n",
              "      <td>http://tak-apps-dev.s3.amazonaws.com/recruitme...</td>\n",
              "      <td>Rectangle</td>\n",
              "    </tr>\n",
              "    <tr>\n",
              "      <th>2</th>\n",
              "      <td>2</td>\n",
              "      <td>Jialedi Eyewear 1086 C8 Blue</td>\n",
              "      <td>8254</td>\n",
              "      <td>eyeframe</td>\n",
              "      <td>http://tak-apps-dev.s3.amazonaws.com/recruitme...</td>\n",
              "      <td>Rectangle</td>\n",
              "    </tr>\n",
              "    <tr>\n",
              "      <th>3</th>\n",
              "      <td>3</td>\n",
              "      <td>Jialedi Eyewear 1086 C6 Red</td>\n",
              "      <td>8255</td>\n",
              "      <td>eyeframe</td>\n",
              "      <td>http://tak-apps-dev.s3.amazonaws.com/recruitme...</td>\n",
              "      <td>Rectangle</td>\n",
              "    </tr>\n",
              "    <tr>\n",
              "      <th>4</th>\n",
              "      <td>4</td>\n",
              "      <td>Jialedi Eyewear 1086 C4 Tortoise Transperent</td>\n",
              "      <td>8256</td>\n",
              "      <td>eyeframe</td>\n",
              "      <td>http://tak-apps-dev.s3.amazonaws.com/recruitme...</td>\n",
              "      <td>Rectangle</td>\n",
              "    </tr>\n",
              "  </tbody>\n",
              "</table>\n",
              "</div>"
            ],
            "text/plain": [
              "   Unnamed: 0  ... frame_shape\n",
              "0           0  ...   Rectangle\n",
              "1           1  ...   Rectangle\n",
              "2           2  ...   Rectangle\n",
              "3           3  ...   Rectangle\n",
              "4           4  ...   Rectangle\n",
              "\n",
              "[5 rows x 6 columns]"
            ]
          },
          "metadata": {},
          "execution_count": 3
        }
      ]
    },
    {
      "cell_type": "code",
      "metadata": {
        "colab": {
          "base_uri": "https://localhost:8080/"
        },
        "id": "iw_4smuHoxfa",
        "outputId": "793dec1c-88d2-4793-c6b8-8842cae1273b"
      },
      "source": [
        "df['Image_Front']"
      ],
      "execution_count": 5,
      "outputs": [
        {
          "output_type": "execute_result",
          "data": {
            "text/plain": [
              "0       http://tak-apps-dev.s3.amazonaws.com/recruitme...\n",
              "1       http://tak-apps-dev.s3.amazonaws.com/recruitme...\n",
              "2       http://tak-apps-dev.s3.amazonaws.com/recruitme...\n",
              "3       http://tak-apps-dev.s3.amazonaws.com/recruitme...\n",
              "4       http://tak-apps-dev.s3.amazonaws.com/recruitme...\n",
              "                              ...                        \n",
              "5564    http://tak-apps-dev.s3.amazonaws.com/recruitme...\n",
              "5565    http://tak-apps-dev.s3.amazonaws.com/recruitme...\n",
              "5566    http://tak-apps-dev.s3.amazonaws.com/recruitme...\n",
              "5567    http://tak-apps-dev.s3.amazonaws.com/recruitme...\n",
              "5568    http://tak-apps-dev.s3.amazonaws.com/recruitme...\n",
              "Name: Image_Front, Length: 5569, dtype: object"
            ]
          },
          "metadata": {},
          "execution_count": 5
        }
      ]
    },
    {
      "cell_type": "code",
      "metadata": {
        "colab": {
          "base_uri": "https://localhost:8080/",
          "height": 423
        },
        "id": "RbbDoXu_o0uk",
        "outputId": "ced58df7-578f-41a7-8baa-d8236817744e"
      },
      "source": [
        "df[df['parent_category']!='eyeframe']"
      ],
      "execution_count": 6,
      "outputs": [
        {
          "output_type": "execute_result",
          "data": {
            "text/html": [
              "<div>\n",
              "<style scoped>\n",
              "    .dataframe tbody tr th:only-of-type {\n",
              "        vertical-align: middle;\n",
              "    }\n",
              "\n",
              "    .dataframe tbody tr th {\n",
              "        vertical-align: top;\n",
              "    }\n",
              "\n",
              "    .dataframe thead th {\n",
              "        text-align: right;\n",
              "    }\n",
              "</style>\n",
              "<table border=\"1\" class=\"dataframe\">\n",
              "  <thead>\n",
              "    <tr style=\"text-align: right;\">\n",
              "      <th></th>\n",
              "      <th>Unnamed: 0</th>\n",
              "      <th>product_name</th>\n",
              "      <th>product_id</th>\n",
              "      <th>parent_category</th>\n",
              "      <th>Image_Front</th>\n",
              "      <th>frame_shape</th>\n",
              "    </tr>\n",
              "  </thead>\n",
              "  <tbody>\n",
              "    <tr>\n",
              "      <th>2183</th>\n",
              "      <td>2183</td>\n",
              "      <td>Rayban RB 3025 Sunglasses</td>\n",
              "      <td>7634</td>\n",
              "      <td>sunglasses</td>\n",
              "      <td>http://tak-apps-dev.s3.amazonaws.com/recruitme...</td>\n",
              "      <td>Aviator</td>\n",
              "    </tr>\n",
              "    <tr>\n",
              "      <th>2184</th>\n",
              "      <td>2184</td>\n",
              "      <td>Fastrack P101BR2 Medium Maroon Grey Pink Gradi...</td>\n",
              "      <td>7956</td>\n",
              "      <td>sunglasses</td>\n",
              "      <td>http://tak-apps-dev.s3.amazonaws.com/recruitme...</td>\n",
              "      <td>Oval</td>\n",
              "    </tr>\n",
              "    <tr>\n",
              "      <th>2185</th>\n",
              "      <td>2185</td>\n",
              "      <td>Fastrack M068GR3 Medium Black Blue Brown Gradi...</td>\n",
              "      <td>7964</td>\n",
              "      <td>sunglasses</td>\n",
              "      <td>http://tak-apps-dev.s3.amazonaws.com/recruitme...</td>\n",
              "      <td>Aviator</td>\n",
              "    </tr>\n",
              "    <tr>\n",
              "      <th>2186</th>\n",
              "      <td>2186</td>\n",
              "      <td>Fastrack P175BK3 Medium Grey Yellow Grey Unise...</td>\n",
              "      <td>7966</td>\n",
              "      <td>sunglasses</td>\n",
              "      <td>http://tak-apps-dev.s3.amazonaws.com/recruitme...</td>\n",
              "      <td>Rectangle</td>\n",
              "    </tr>\n",
              "    <tr>\n",
              "      <th>2187</th>\n",
              "      <td>2187</td>\n",
              "      <td>Fastrack P169BK1 Medium White Grey Unisex Sung...</td>\n",
              "      <td>7974</td>\n",
              "      <td>sunglasses</td>\n",
              "      <td>http://tak-apps-dev.s3.amazonaws.com/recruitme...</td>\n",
              "      <td>Oval</td>\n",
              "    </tr>\n",
              "    <tr>\n",
              "      <th>...</th>\n",
              "      <td>...</td>\n",
              "      <td>...</td>\n",
              "      <td>...</td>\n",
              "      <td>...</td>\n",
              "      <td>...</td>\n",
              "      <td>...</td>\n",
              "    </tr>\n",
              "    <tr>\n",
              "      <th>5564</th>\n",
              "      <td>5565</td>\n",
              "      <td>Black White Full Rim Rectangle Vincent Chase O...</td>\n",
              "      <td>99444</td>\n",
              "      <td>Non-Power Reading</td>\n",
              "      <td>http://tak-apps-dev.s3.amazonaws.com/recruitme...</td>\n",
              "      <td>Rectangle</td>\n",
              "    </tr>\n",
              "    <tr>\n",
              "      <th>5565</th>\n",
              "      <td>5566</td>\n",
              "      <td>Maroon Full Rim Rectangle Vincent Chase Online...</td>\n",
              "      <td>99445</td>\n",
              "      <td>Non-Power Reading</td>\n",
              "      <td>http://tak-apps-dev.s3.amazonaws.com/recruitme...</td>\n",
              "      <td>Rectangle</td>\n",
              "    </tr>\n",
              "    <tr>\n",
              "      <th>5566</th>\n",
              "      <td>5567</td>\n",
              "      <td>Todaywear TOI Special: Black Blue Full Rim Rec...</td>\n",
              "      <td>99446</td>\n",
              "      <td>Non-Power Reading</td>\n",
              "      <td>http://tak-apps-dev.s3.amazonaws.com/recruitme...</td>\n",
              "      <td>Rectangle</td>\n",
              "    </tr>\n",
              "    <tr>\n",
              "      <th>5567</th>\n",
              "      <td>5568</td>\n",
              "      <td>Tortoise Full Rim Rectangle Vincent Chase Onli...</td>\n",
              "      <td>99447</td>\n",
              "      <td>Non-Power Reading</td>\n",
              "      <td>http://tak-apps-dev.s3.amazonaws.com/recruitme...</td>\n",
              "      <td>Rectangle</td>\n",
              "    </tr>\n",
              "    <tr>\n",
              "      <th>5568</th>\n",
              "      <td>5569</td>\n",
              "      <td>Black Red Full Rim Rectangle Vincent Chase Onl...</td>\n",
              "      <td>99448</td>\n",
              "      <td>Non-Power Reading</td>\n",
              "      <td>http://tak-apps-dev.s3.amazonaws.com/recruitme...</td>\n",
              "      <td>Rectangle</td>\n",
              "    </tr>\n",
              "  </tbody>\n",
              "</table>\n",
              "<p>3386 rows × 6 columns</p>\n",
              "</div>"
            ],
            "text/plain": [
              "      Unnamed: 0  ... frame_shape\n",
              "2183        2183  ...     Aviator\n",
              "2184        2184  ...        Oval\n",
              "2185        2185  ...     Aviator\n",
              "2186        2186  ...   Rectangle\n",
              "2187        2187  ...        Oval\n",
              "...          ...  ...         ...\n",
              "5564        5565  ...   Rectangle\n",
              "5565        5566  ...   Rectangle\n",
              "5566        5567  ...   Rectangle\n",
              "5567        5568  ...   Rectangle\n",
              "5568        5569  ...   Rectangle\n",
              "\n",
              "[3386 rows x 6 columns]"
            ]
          },
          "metadata": {},
          "execution_count": 6
        }
      ]
    },
    {
      "cell_type": "code",
      "metadata": {
        "id": "PJM_6I2cp1gY"
      },
      "source": [
        ""
      ],
      "execution_count": null,
      "outputs": []
    }
  ]
}