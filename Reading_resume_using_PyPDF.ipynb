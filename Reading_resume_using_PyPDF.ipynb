{
  "nbformat": 4,
  "nbformat_minor": 0,
  "metadata": {
    "colab": {
      "name": "Untitled33.ipynb",
      "provenance": [],
      "mount_file_id": "1xzSJ1I9_6ETXeelHz1sugC25UYQsB3Tt",
      "authorship_tag": "ABX9TyPdCbrltaphexFrhep5xOLZ",
      "include_colab_link": true
    },
    "kernelspec": {
      "name": "python3",
      "display_name": "Python 3"
    },
    "language_info": {
      "name": "python"
    }
  },
  "cells": [
    {
      "cell_type": "markdown",
      "metadata": {
        "id": "view-in-github",
        "colab_type": "text"
      },
      "source": [
        "<a href=\"https://colab.research.google.com/github/Vineet2107/Convolutional-neural-network-in-tensorflow/blob/main/Reading_resume_using_PyPDF.ipynb\" target=\"_parent\"><img src=\"https://colab.research.google.com/assets/colab-badge.svg\" alt=\"Open In Colab\"/></a>"
      ]
    },
    {
      "cell_type": "code",
      "source": [
        "!pip install PyPDF2"
      ],
      "metadata": {
        "colab": {
          "base_uri": "https://localhost:8080/"
        },
        "id": "BCCZlCPqH72H",
        "outputId": "45e86fed-b132-43fa-b2e5-d8fda5967970"
      },
      "execution_count": 11,
      "outputs": [
        {
          "output_type": "stream",
          "name": "stdout",
          "text": [
            "Requirement already satisfied: PyPDF2 in /usr/local/lib/python3.7/dist-packages (1.26.0)\n"
          ]
        }
      ]
    },
    {
      "cell_type": "code",
      "execution_count": 12,
      "metadata": {
        "id": "Yw7HoJs7HPJP"
      },
      "outputs": [],
      "source": [
        "import PyPDF2"
      ]
    },
    {
      "cell_type": "code",
      "source": [
        "!pip install docx"
      ],
      "metadata": {
        "colab": {
          "base_uri": "https://localhost:8080/"
        },
        "id": "zJ_bGaMZI2iV",
        "outputId": "b16a5d5d-f874-456e-9e60-9c6657e7def2"
      },
      "execution_count": 13,
      "outputs": [
        {
          "output_type": "stream",
          "name": "stdout",
          "text": [
            "Requirement already satisfied: docx in /usr/local/lib/python3.7/dist-packages (0.2.4)\n",
            "Requirement already satisfied: lxml in /usr/local/lib/python3.7/dist-packages (from docx) (4.2.6)\n",
            "Requirement already satisfied: Pillow>=2.0 in /usr/local/lib/python3.7/dist-packages (from docx) (7.1.2)\n"
          ]
        }
      ]
    },
    {
      "cell_type": "code",
      "source": [
        "import PyPDF2 \n",
        "\n",
        "pdfFileObj = open('/content/drive/MyDrive/Hemika+Narang+Resume.pdf', 'rb') \n",
        " \n",
        "pdfReader = PyPDF2.PdfFileReader(pdfFileObj) \n",
        " \n",
        "print(pdfReader.numPages) \n",
        "\n",
        "pageObj = pdfReader.getPage(0) \n",
        " \n",
        "print(pageObj.extractText()) \n",
        " \n",
        "pdfFileObj.close() \n",
        "resume_txt = pageObj.extractText()"
      ],
      "metadata": {
        "colab": {
          "base_uri": "https://localhost:8080/"
        },
        "id": "laiAq-FGI63A",
        "outputId": "1b00856a-809a-406d-de36-8395aceff734"
      },
      "execution_count": 18,
      "outputs": [
        {
          "output_type": "stream",
          "name": "stdout",
          "text": [
            "1\n",
            "     Hemika\n",
            " Narang\n",
            " New Delhi, India\n",
            " ! +91\n",
            "-9810744858 ! narang.hemika@gmail.com\n",
            "   PROFESSIONAL SUMMARY\n",
            " 5+ years of \n",
            "industry \n",
            "experience \n",
            "with 2.5\n",
            "yrs leading as \n",
            "a product manager, c\n",
            "o-conceived\n",
            " the core idea & \n",
            "business plan for 98Fit\n",
            ", a fitness startup\n",
            ".  ¥ Launched \n",
            "98Fit(website & mobile app for Android)\n",
            " and generated up to 1M diet & workout plans\n",
            " within 10 months, with \n",
            "1/4\n",
            "th returning users. \n",
            " ¥ Led a Navratri online campaign (created a special \n",
            "fasting \n",
            "diet \n",
            "chart\n",
            " in Hindi & English) at ze\n",
            "ro cost \n",
            "resulting in \n",
            "over 10\n",
            "0k \n",
            "views of\n",
            " the plan, top rank on Google searches and featured across leading \n",
            "publications & newspapers. \n",
            "  WORK EXPERIENCE\n",
            " Product Manager |\n",
            " 98Fit | April Ô\n",
            "16 Ð October Ô\n",
            "18 A fitness \n",
            "app that \n",
            "help\n",
            "s people\n",
            " get fit by providing personalized \n",
            "diet &\n",
            " workout plan as per \n",
            "the\n",
            " body type & \n",
            "metabolism\n",
            " without any human intervention. \n",
            "  ¥ Built from scratch and scaled \n",
            "over \n",
            "50k users per month \n",
            "of varied age groups & all tier cities \n",
            "on the \n",
            "website with in a short span of time.\n",
            " ¥ Managed\n",
            " & conceptualized\n",
            " the \n",
            "strategy, roadmap & feature definition for the \n",
            "entire \n",
            "website & app\n",
            ". ¥ Built up on the logic \n",
            "from ground \n",
            "for creation of diet & workout plan with the pool of fitness experts \n",
            "(Dieticians, workout experts\n",
            ") as seen on the different apps. \n",
            " ¥ Followed agile methodology to build features fast, \n",
            "A/B testing, \n",
            "ship it to the market and make \n",
            "decisions\n",
            " based on the data \n",
            "with a strong focus on user experience. \n",
            " ¥ Continually gathered & analyzed data and business intelligence from\n",
            " different sources (custo\n",
            "mers, \n",
            "internal sources\n",
            " & industry\n",
            ") to form actionable\n",
            " items for the product strategy. \n",
            " ¥ Strategize\n",
            "d & worked on\n",
            " the marketing campaigns to create awareness & adoption of the product\n",
            ".     Software Engineer (Java Developer) | Landis+Gyr | AugustÕ13\n",
            "-MarchÕ 16\n",
            " Landis+Gyr is a subsidiary organization of Toshiba Solutions Corporation. It is the world leader in smart \n",
            "metering, energy management solutions, and related services, with presence in 30 countries.  \n",
            " Project: Meter Data Management System (MDMS) \n",
            " MDMS is a \n",
            "system designed to rigorously process and prepare data for a variety of utility programs and \n",
            " operations. Some of its features are data collection and synchronization, validation, estimation and editing \n",
            "engine, billing extracts, analytics and reports.  \n",
            " ¥ Brainstorm\n",
            "ed with product engineering team to understand the requirements and delivery timelines.\n",
            " ¥ Execute analysis and development tasks to design and implemen\n",
            "t new product requirements and \n",
            "defect fixing.  \n",
            " ¥ Develop\n",
            "ed various reports from the ground up, used for the purpose of analysis by the utilities.  This \n",
            "included designing the mockup screens & developing the front end using GWT & GXT.  \n",
            " ¥ First Engineer in my team to be rewarded with GEM & star award\n",
            " in NovemberÕ 2014 and March \n",
            "2015 respectively.\n",
            "  EDUCATION \n",
            " B.Tech in Computer Science (2013)\n",
            "  Jaypee Institute of Information Technology, Noida\n",
            "  7.5/ 10\n",
            " C.B.S.E (XII) (2009)\n",
            "   Amity International School, Saket\n",
            "  76.6\n",
            "% C.B.S.E. (X) \n",
            "(2007\n",
            ")  Presentation C\n",
            "onvent Senior Secondary School, \n",
            "Delhi \n",
            "  87.2\n",
            "%   ABOUT ME\n",
            " ¥ Avid interest in travel\n",
            " & hiking. \n",
            " ¥ Passionately curious & experimental, always up to learning new things. \n",
            " \n"
          ]
        }
      ]
    },
    {
      "cell_type": "code",
      "source": [
        "import re"
      ],
      "metadata": {
        "id": "6sFkC7nTJduX"
      },
      "execution_count": 16,
      "outputs": []
    },
    {
      "cell_type": "code",
      "source": [
        "x = re.findall('^.{1,50}$', resume_txt)"
      ],
      "metadata": {
        "id": "bdM4KIvRLaqh"
      },
      "execution_count": 20,
      "outputs": []
    },
    {
      "cell_type": "code",
      "source": [
        "x"
      ],
      "metadata": {
        "colab": {
          "base_uri": "https://localhost:8080/"
        },
        "id": "_THw9qk8aG4R",
        "outputId": "bf9e1d5a-b6dd-4088-b53e-007b96e3d337"
      },
      "execution_count": 21,
      "outputs": [
        {
          "output_type": "execute_result",
          "data": {
            "text/plain": [
              "[]"
            ]
          },
          "metadata": {},
          "execution_count": 21
        }
      ]
    },
    {
      "cell_type": "code",
      "source": [
        ""
      ],
      "metadata": {
        "id": "2H8XNVqAaSA7"
      },
      "execution_count": null,
      "outputs": []
    }
  ]
}